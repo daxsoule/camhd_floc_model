{
 "cells": [
  {
   "cell_type": "markdown",
   "metadata": {},
   "source": [
    "# dbCamHD Update\n",
    "\n",
    "This notebook updates the dbcamhd.json metadata database."
   ]
  },
  {
   "cell_type": "markdown",
   "metadata": {},
   "source": [
    "#### Load the current database"
   ]
  },
  {
   "cell_type": "code",
   "execution_count": null,
   "metadata": {},
   "outputs": [],
   "source": [
    "import pandas as pd\n",
    "dbcamhd = pd.read_json('/home/jovyan/camhd_floc_model/data_camhd/dbcamhd.json', orient=\"records\", lines=True).sort_values(by=['timestamp'])\n",
    "dbcamhd.tail()"
   ]
  },
  {
   "cell_type": "markdown",
   "metadata": {},
   "source": [
    "#### Get the last date in the database"
   ]
  },
  {
   "cell_type": "code",
   "execution_count": null,
   "metadata": {},
   "outputs": [],
   "source": [
    "from datetime import date\n",
    "year = int(dbcamhd.filename.iloc[-1].split('/')[7])\n",
    "month = int(dbcamhd.filename.iloc[-1].split('/')[8])\n",
    "day = int(dbcamhd.filename.iloc[-1].split('/')[9])\n",
    "start_date = date(year, month, day)\n",
    "start_date"
   ]
  },
  {
   "cell_type": "markdown",
   "metadata": {},
   "source": [
    "#### Get a list of the dates since that date and use Dask delayed and Pycamhd to generate a file list"
   ]
  },
  {
   "cell_type": "code",
   "execution_count": null,
   "metadata": {},
   "outputs": [],
   "source": [
    "import pycamhd as camhd\n",
    "from dask import delayed, compute"
   ]
  },
  {
   "cell_type": "code",
   "execution_count": null,
   "metadata": {},
   "outputs": [],
   "source": [
    "date_list = pd.date_range(start_date, date.today()).to_pydatetime()"
   ]
  },
  {
   "cell_type": "code",
   "execution_count": null,
   "metadata": {},
   "outputs": [],
   "source": [
    "delayed_file_tuples = []\n",
    "for day in date_list:\n",
    "    delayed_file_tuples.append(delayed(camhd.get_file_list)(start_date=day, end_date=day))"
   ]
  },
  {
   "cell_type": "code",
   "execution_count": null,
   "metadata": {},
   "outputs": [],
   "source": [
    "from dask_kubernetes import KubeCluster\n",
    "cluster = KubeCluster(n_workers=6)\n",
    "cluster"
   ]
  },
  {
   "cell_type": "code",
   "execution_count": null,
   "metadata": {},
   "outputs": [],
   "source": [
    "from dask.distributed import Client\n",
    "client = Client(cluster)\n",
    "client"
   ]
  },
  {
   "cell_type": "code",
   "execution_count": null,
   "metadata": {},
   "outputs": [],
   "source": [
    "%%time\n",
    "file_tuples = compute(*delayed_file_tuples)"
   ]
  },
  {
   "cell_type": "code",
   "execution_count": null,
   "metadata": {},
   "outputs": [],
   "source": [
    "file_list = []\n",
    "file_sizes = []\n",
    "for i in file_tuples:\n",
    "    if i[0]:\n",
    "        file_list = file_list + i[0]\n",
    "        file_sizes = file_sizes + i[1]"
   ]
  },
  {
   "cell_type": "code",
   "execution_count": null,
   "metadata": {},
   "outputs": [],
   "source": [
    "dbcamhd_new = pd.DataFrame(\n",
    "    {'filename': file_list,\n",
    "     'filesize': file_sizes,\n",
    "    }).drop_duplicates().reset_index()\n",
    "dbcamhd_new.tail()"
   ]
  },
  {
   "cell_type": "markdown",
   "metadata": {},
   "source": [
    "#### Use Dask to get additional information about the files"
   ]
  },
  {
   "cell_type": "code",
   "execution_count": null,
   "metadata": {},
   "outputs": [],
   "source": [
    "def get_file_info(filename):\n",
    "    try:\n",
    "        moov_atom = camhd.get_moov_atom(filename)\n",
    "        timestamp = camhd.get_timestamp(filename, moov_atom)\n",
    "        frame_count = camhd.get_frame_count(filename, moov_atom)\n",
    "        moov = True\n",
    "    except:\n",
    "        timestamp = 0\n",
    "        frame_count = 0\n",
    "        moov = False\n",
    "    return [timestamp, frame_count, moov]"
   ]
  },
  {
   "cell_type": "code",
   "execution_count": null,
   "metadata": {},
   "outputs": [],
   "source": [
    "delayed_file_info = []\n",
    "for i in dbcamhd_new.index:\n",
    "    filename = dbcamhd_new['filename'][i]\n",
    "    delayed_file_info.append(delayed(get_file_info)(filename))"
   ]
  },
  {
   "cell_type": "code",
   "execution_count": null,
   "metadata": {},
   "outputs": [],
   "source": [
    "%%time\n",
    "file_info = compute(*delayed_file_info)"
   ]
  },
  {
   "cell_type": "code",
   "execution_count": null,
   "metadata": {},
   "outputs": [],
   "source": [
    "timestamp = [item[0] for item in file_info]\n",
    "frame_count = [item[1] for item in file_info]\n",
    "moov = [item[2] for item in file_info]"
   ]
  },
  {
   "cell_type": "markdown",
   "metadata": {},
   "source": [
    "#### Add these to the new dataframe"
   ]
  },
  {
   "cell_type": "code",
   "execution_count": null,
   "metadata": {},
   "outputs": [],
   "source": [
    "dbcamhd_new['moov'] = pd.Series(moov, index=dbcamhd_new.index)\n",
    "dbcamhd_new['timestamp'] = pd.Series(timestamp, index=dbcamhd_new.index)\n",
    "dbcamhd_new['frame_count'] = pd.Series(frame_count, index=dbcamhd_new.index)\n",
    "dbcamhd_new.tail()"
   ]
  },
  {
   "cell_type": "markdown",
   "metadata": {},
   "source": [
    "#### Add deployment numbers to the new dataframe\n",
    "\n",
    "See the [asset management](https://github.com/ooi-integration/asset-management/blob/master/deployment/RS03ASHS_Deploy.csv) page for deployment information."
   ]
  },
  {
   "cell_type": "code",
   "execution_count": null,
   "metadata": {},
   "outputs": [],
   "source": [
    "dt = pd.to_datetime(dbcamhd_new.timestamp, unit='s')\n",
    "dbcamhd_new['deployment'] = dbcamhd_new.timestamp*0\n",
    "dbcamhd_new.loc[dt < '2016-07-26 21:18:00', 'deployment'] = 2\n",
    "dbcamhd_new.loc[dt >= '2016-07-26 21:18:00', 'deployment'] = 3\n",
    "dbcamhd_new.loc[dt >= '2017-08-14 06:00:00', 'deployment'] = 4\n",
    "dbcamhd_new.loc[dt >= '2018-07-04 00:00:00', 'deployment'] = 5"
   ]
  },
  {
   "cell_type": "markdown",
   "metadata": {},
   "source": [
    "#### Concatenate and deduplicate"
   ]
  },
  {
   "cell_type": "code",
   "execution_count": null,
   "metadata": {},
   "outputs": [],
   "source": [
    "dbcamhd = pd.concat([dbcamhd, dbcamhd_new], ignore_index=True, sort=True).drop_duplicates(subset=['filename'])"
   ]
  },
  {
   "cell_type": "code",
   "execution_count": null,
   "metadata": {},
   "outputs": [],
   "source": [
    "dbcamhd.tail()"
   ]
  },
  {
   "cell_type": "markdown",
   "metadata": {},
   "source": [
    "#### Save dataframe to JSON file"
   ]
  },
  {
   "cell_type": "code",
   "execution_count": null,
   "metadata": {},
   "outputs": [],
   "source": [
    "dbcamhd.to_json('dbcamhd.json', orient=\"records\", lines=True)"
   ]
  },
  {
   "cell_type": "markdown",
   "metadata": {},
   "source": [
    "### References\n",
    "\n",
    "https://github.com/tjcrone/pycamhd<br>\n",
    "https://rawdata.oceanobservatories.org/files/RS03ASHS/PN03B/06-CAMHDA301/<br>\n",
    "https://pandas.pydata.org/"
   ]
  }
 ],
 "metadata": {
  "kernelspec": {
   "display_name": "Python 3",
   "language": "python",
   "name": "python3"
  },
  "language_info": {
   "codemirror_mode": {
    "name": "ipython",
    "version": 3
   },
   "file_extension": ".py",
   "mimetype": "text/x-python",
   "name": "python",
   "nbconvert_exporter": "python",
   "pygments_lexer": "ipython3",
   "version": "3.6.6"
  }
 },
 "nbformat": 4,
 "nbformat_minor": 2
}
