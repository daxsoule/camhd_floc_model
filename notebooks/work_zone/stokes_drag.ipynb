{
 "cells": [
  {
   "cell_type": "markdown",
   "metadata": {},
   "source": [
    "# example for https://scipython.com/book/chapter-8-scipy/examples/stokes-drag/"
   ]
  },
  {
   "cell_type": "raw",
   "metadata": {},
   "source": [
    "This is interesting. \n",
    "I would love to see if we can come up with a better density, mass, and radius value.\n",
    "Next I would like to model a mass of settling particles over time. "
   ]
  },
  {
   "cell_type": "code",
   "execution_count": null,
   "metadata": {},
   "outputs": [],
   "source": [
    "import numpy as np\n",
    "from scipy.integrate import odeint\n",
    "import pylab"
   ]
  },
  {
   "cell_type": "code",
   "execution_count": null,
   "metadata": {},
   "outputs": [],
   "source": [
    "# Acceleration due to gravity (m.s-2)\n",
    "g = 9.81\n",
    "# Densities (kg.m-3) \n",
    "# yeast value as standin for floc from https://jb.asm.org/content/158/2/701 (1.1126 g/ml = 1112.6 kg.m-3)\n",
    "# https://www.pmel.noaa.gov/eoi/rsn/CTD.html for the water value\n",
    "rho_floc, rho_h20 = 1112.6, 1034.67\n",
    "# Viscosity of seawater at 2 degrees C (Pa.s)  https://doi.org/10.5004/dwt.2010.1079\n",
    "eta = 1.9e-3"
   ]
  },
  {
   "cell_type": "code",
   "execution_count": null,
   "metadata": {},
   "outputs": [],
   "source": [
    "# Radius and mass of the sphere\n",
    "# Here we guess the radius and the mass\n",
    "r = 1.e-3   # radius (m)\n",
    "m = 1*np.pi/3 * r**3 * rho_floc\n",
    "# Drag consant from Stokes' Law:\n",
    "c = 6 * np.pi * eta * r\n",
    "# Effective gravitational acceleration\n",
    "gp = g * (1 - rho_h20/rho_floc)"
   ]
  },
  {
   "cell_type": "code",
   "execution_count": null,
   "metadata": {},
   "outputs": [],
   "source": [
    "def deriv(z, t, m, c, gp):\n",
    "    \"\"\" Return the dz/dt and d2z/dt2. \"\"\"\n",
    "    dz0 = z[1]\n",
    "    dz1 = gp - c/m * z[1]\n",
    "    return dz0, dz1"
   ]
  },
  {
   "cell_type": "code",
   "execution_count": null,
   "metadata": {},
   "outputs": [],
   "source": [
    "t = np.linspace(0, 20, 50)\n",
    "# Initial conditions: z = 0, dz/dt = 0 at t=0\n",
    "z0 = (0, 0)"
   ]
  },
  {
   "cell_type": "code",
   "execution_count": null,
   "metadata": {},
   "outputs": [],
   "source": [
    "# Integrate the pair of differential equations\n",
    "z, zdot = odeint(deriv, z0, t, args=(m, c, gp)).T\n",
    "pylab.plot(t, zdot)"
   ]
  },
  {
   "cell_type": "code",
   "execution_count": null,
   "metadata": {},
   "outputs": [],
   "source": [
    "print('Estimate of terminal velocity = {:.3f} m.s-1'.format(zdot[-1]))"
   ]
  },
  {
   "cell_type": "code",
   "execution_count": null,
   "metadata": {},
   "outputs": [],
   "source": [
    "# Exact solution: terminal velocity vt (m.s-1) and characteristic time tau (s)\n",
    "v0, vt, tau = 0, m*gp/c, m/c\n",
    "print('Exact terminal velocity = {:.3f} m.s-1'.format(vt))\n",
    "z = vt*t + v0*tau*(1-np.exp(-t/tau)) + vt*tau*(np.exp(-t/tau)-1)\n",
    "zdot_exact = vt + (v0-vt)*np.exp(-t/tau)\n",
    "pylab.plot(t, zdot_exact)\n",
    "pylab.xlabel('$t$ /s')\n",
    "pylab.ylabel('$\\dot{z}\\;/\\mathrm{m\\, s^{-1}}$')\n",
    "\n",
    "pylab.show()"
   ]
  },
  {
   "cell_type": "code",
   "execution_count": null,
   "metadata": {},
   "outputs": [],
   "source": []
  }
 ],
 "metadata": {
  "kernelspec": {
   "display_name": "Python 3",
   "language": "python",
   "name": "python3"
  },
  "language_info": {
   "codemirror_mode": {
    "name": "ipython",
    "version": 3
   },
   "file_extension": ".py",
   "mimetype": "text/x-python",
   "name": "python",
   "nbconvert_exporter": "python",
   "pygments_lexer": "ipython3",
   "version": "3.6.6"
  }
 },
 "nbformat": 4,
 "nbformat_minor": 2
}
