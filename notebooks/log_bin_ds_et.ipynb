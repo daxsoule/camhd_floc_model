{
 "cells": [
  {
   "cell_type": "markdown",
   "metadata": {},
   "source": [
    "# Hello Friend"
   ]
  },
  {
   "cell_type": "code",
   "execution_count": null,
   "metadata": {},
   "outputs": [],
   "source": [
    "import numpy as np\n",
    "import scipy as sp\n",
    "from scipy import stats\n",
    "from scipy.optimize import curve_fit\n",
    "from scipy.optimize import minimize\n",
    "from scipy.interpolate import *\n",
    "import matplotlib.pyplot as plt\n",
    "import pandas as pd\n",
    "import datetime, math\n",
    "import matplotlib.dates as dates\n",
    "import holoviews as hv\n",
    "from holoviews import opts\n",
    "from holoviews import dim\n",
    "hv.extension('bokeh')"
   ]
  },
  {
   "cell_type": "code",
   "execution_count": null,
   "metadata": {},
   "outputs": [],
   "source": [
    "results = pd.read_pickle('/home/jovyan/floc_gsa_2019/regions_results_for_dep_5.pickle')\n"
   ]
  },
  {
   "cell_type": "code",
   "execution_count": null,
   "metadata": {},
   "outputs": [],
   "source": [
    "results.head()"
   ]
  },
  {
   "cell_type": "code",
   "execution_count": null,
   "metadata": {},
   "outputs": [],
   "source": [
    "total_floc = [sum(i) for i in results['label_stats']]"
   ]
  },
  {
   "cell_type": "code",
   "execution_count": null,
   "metadata": {},
   "outputs": [],
   "source": [
    "results['total_floc'] = total_floc"
   ]
  },
  {
   "cell_type": "code",
   "execution_count": null,
   "metadata": {},
   "outputs": [],
   "source": [
    "x = results['timestamp'].values\n",
    "y = results['total_floc'].values\n",
    "date = results['datetime']"
   ]
  },
  {
   "cell_type": "code",
   "execution_count": null,
   "metadata": {},
   "outputs": [],
   "source": [
    "type(x[1])"
   ]
  },
  {
   "cell_type": "code",
   "execution_count": null,
   "metadata": {},
   "outputs": [],
   "source": [
    "data = pd.DataFrame({'x': x, 'y': y, 'date':date})\n",
    "data.head()"
   ]
  },
  {
   "cell_type": "code",
   "execution_count": null,
   "metadata": {},
   "outputs": [],
   "source": [
    "import hvplot.pandas\n",
    "data.hvplot.scatter('x', 'y', datashade = True)"
   ]
  },
  {
   "cell_type": "code",
   "execution_count": null,
   "metadata": {},
   "outputs": [],
   "source": [
    "ss = data.loc[data['y']<7000]\n",
    "ss.describe()"
   ]
  },
  {
   "cell_type": "code",
   "execution_count": null,
   "metadata": {},
   "outputs": [],
   "source": [
    "xx = ss['x'].values\n",
    "yy = ss['y'].values\n",
    "datedate = ss['date']"
   ]
  },
  {
   "cell_type": "code",
   "execution_count": null,
   "metadata": {},
   "outputs": [],
   "source": [
    "len(ss)"
   ]
  },
  {
   "cell_type": "code",
   "execution_count": null,
   "metadata": {},
   "outputs": [],
   "source": [
    "np.shape(ss)"
   ]
  },
  {
   "cell_type": "code",
   "execution_count": null,
   "metadata": {},
   "outputs": [],
   "source": [
    "def func (xx, a1, a2):\n",
    "    return a1 + a2 * np.log10(xx)"
   ]
  },
  {
   "cell_type": "code",
   "execution_count": null,
   "metadata": {},
   "outputs": [],
   "source": [
    "popt, pcov = curve_fit(func, xx, yy)\n",
    "popt"
   ]
  },
  {
   "cell_type": "code",
   "execution_count": null,
   "metadata": {},
   "outputs": [],
   "source": [
    "y2 = func(xx, popt[0], popt[1])"
   ]
  },
  {
   "cell_type": "code",
   "execution_count": null,
   "metadata": {},
   "outputs": [],
   "source": [
    "data2 = pd.DataFrame({'xx': xx, 'Floc Volume': yy, 'y2': y2, 'Date': datedate})\n",
    "data2.head()"
   ]
  },
  {
   "cell_type": "code",
   "execution_count": null,
   "metadata": {},
   "outputs": [],
   "source": [
    "import hvplot.pandas"
   ]
  },
  {
   "cell_type": "code",
   "execution_count": null,
   "metadata": {},
   "outputs": [],
   "source": [
    "import hvplot.pandas\n",
    "plot1= data2.hvplot.scatter('Date', 'Floc Volume', datashade = True,)\n",
    "plot2= data2.hvplot.line('Date', 'y2', color = 'red', weight = 2)\n",
    "plot1*plot2"
   ]
  },
  {
   "cell_type": "code",
   "execution_count": null,
   "metadata": {},
   "outputs": [],
   "source": [
    "\n",
    "line = func(xx, popt[0], popt[1])"
   ]
  },
  {
   "cell_type": "code",
   "execution_count": null,
   "metadata": {},
   "outputs": [],
   "source": [
    "%matplotlib inline\n",
    "%config InlineBackend.figure_format = 'svg'\n",
    "import matplotlib.pyplot as plt\n",
    "import matplotlib.patches as patches\n",
    "\n",
    "plt.rc('font', size=11)\n",
    "fig, ax = plt.subplots()\n",
    "fig.set_size_inches(18, 6)\n",
    "fig.frameon = False\n",
    "hb1 = ax.hexbin(xx, yy, vmin=0, vmax=1.2, bins='log', linewidths=1.35,\n",
    "  gridsize=(90, 30), mincnt=1, cmap=plt.cm.PuBuGn)\n",
    "fig.colorbar(hb1)\n",
    "ax.set_ylim([0, 6500])\n",
    "ax.set_xlim([datetime.date(2018, 7, 1), datetime.date(2019, 2, 10)])\n",
    "ax.yaxis.grid(True)\n",
    "ax.xaxis.grid(True)\n",
    "months = dates.MonthLocator()  #Months\n",
    "monthsFmt = dates.DateFormatter('%m %Y')\n",
    "ax.xaxis.set_major_locator(months)\n",
    "ax.xaxis.set_major_formatter(monthsFmt)\n",
    "# slope, intercept, r_value, p_value, std_err = stats.linregress(x,y)\n",
    "# line = slope*x+intercept\n",
    "plt.plot(xx, y2, 'r', linewidth = 3, label='fitted line')\n",
    "plt.ylabel('Volume of Floc Particles');\n",
    "plt.savefig('floc_bin_linear.png')"
   ]
  },
  {
   "cell_type": "code",
   "execution_count": null,
   "metadata": {},
   "outputs": [],
   "source": [
    "xs = data2['xx']\n",
    "ys = data2['Floc Volume']\n",
    "hex_with_values = hv.HexTiles((xs, ys, 0.01))\n",
    "hex_line = data2.hvplot.line('xx', 'y2')\n",
    "overlay = (hex_with_values*hex_line)\n"
   ]
  },
  {
   "cell_type": "code",
   "execution_count": null,
   "metadata": {},
   "outputs": [],
   "source": [
    "# hex_with_values.opts(opts.HexTiles(width=500, height=400, tools=['hover'], colorbar=True))\n",
    "#overlay = hex_with_values*hex_line"
   ]
  },
  {
   "cell_type": "code",
   "execution_count": null,
   "metadata": {},
   "outputs": [],
   "source": [
    "overlay"
   ]
  },
  {
   "cell_type": "code",
   "execution_count": null,
   "metadata": {},
   "outputs": [],
   "source": []
  },
  {
   "cell_type": "code",
   "execution_count": null,
   "metadata": {},
   "outputs": [],
   "source": [
    "xs, ys = np.random.randn(2, 1000)\n",
    "hex_with_values = hv.HexTiles((xs, ys, xs*(ys/2.), (xs**2)*ys), vdims=['Values', 'Hover Values'])\n",
    "overlay = hex_with_values * hv.Points(hex_with_values)\n",
    "\n",
    "overlay.opts(\n",
    "    opts.HexTiles(width=400, height=400, aggregator=np.sum, tools=['hover']),\n",
    "    opts.Points(size=1, color='black'))"
   ]
  },
  {
   "cell_type": "code",
   "execution_count": null,
   "metadata": {},
   "outputs": [],
   "source": []
  },
  {
   "cell_type": "code",
   "execution_count": null,
   "metadata": {},
   "outputs": [],
   "source": [
    "We do not yet have a model yet...\n",
    "Exploring this process\n",
    "Straight line fit..... \n",
    "Obviously these are not the winners .... looking at ways to refine our model. Open to ideas to what might work best\n",
    "\n",
    "What are your ideas that for what might control this process..... \n",
    "input output model. Constant... stokes settling output. \n",
    "\n",
    "Input constant for some number of days..... settling \n",
    "\n",
    "Alturnatively the model, the input is a decay function. \n",
    "\n",
    "Step function for inupt, stokes setteling as an output. \n",
    "\n",
    "box model.... inputs and outputs..... depends on particle size. "
   ]
  },
  {
   "cell_type": "code",
   "execution_count": null,
   "metadata": {},
   "outputs": [],
   "source": [
    "def func2 (xx, aa1, aa2, aa3):\n",
    "    return aa1 * np.exp(-aa2*xx)+aa3"
   ]
  },
  {
   "cell_type": "code",
   "execution_count": null,
   "metadata": {},
   "outputs": [],
   "source": [
    "popt, pcov = curve_fit(func2, xx, yy)\n",
    "popt"
   ]
  },
  {
   "cell_type": "code",
   "execution_count": null,
   "metadata": {},
   "outputs": [],
   "source": [
    "y3 = func2(xx, popt[0], popt[1], popt[2])"
   ]
  },
  {
   "cell_type": "code",
   "execution_count": null,
   "metadata": {},
   "outputs": [],
   "source": [
    "data3 = pd.DataFrame({'xx': xx, 'yy': yy, 'y3': y3})\n",
    "data3.head()"
   ]
  },
  {
   "cell_type": "code",
   "execution_count": null,
   "metadata": {},
   "outputs": [],
   "source": [
    "plot1= data3.hvplot.scatter('xx', 'yy', datashade = True)\n",
    "plot2= data3.hvplot.line('xx', 'y3')\n",
    "plot1*plot2"
   ]
  },
  {
   "cell_type": "code",
   "execution_count": null,
   "metadata": {},
   "outputs": [],
   "source": []
  }
 ],
 "metadata": {
  "kernelspec": {
   "display_name": "Python 3",
   "language": "python",
   "name": "python3"
  },
  "language_info": {
   "codemirror_mode": {
    "name": "ipython",
    "version": 3
   },
   "file_extension": ".py",
   "mimetype": "text/x-python",
   "name": "python",
   "nbconvert_exporter": "python",
   "pygments_lexer": "ipython3",
   "version": "3.6.7"
  }
 },
 "nbformat": 4,
 "nbformat_minor": 2
}
