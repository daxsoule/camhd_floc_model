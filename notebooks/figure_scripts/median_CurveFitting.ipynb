{
 "cells": [
  {
   "cell_type": "markdown",
   "metadata": {},
   "source": [
    "# Curve Fitting\n",
    "code from michjw. "
   ]
  },
  {
   "cell_type": "code",
   "execution_count": null,
   "metadata": {},
   "outputs": [],
   "source": [
    "import numpy as np\n",
    "import scipy as sp\n",
    "from scipy import stats\n",
    "from scipy.optimize import curve_fit\n",
    "from scipy.optimize import minimize\n",
    "from scipy.interpolate import *\n",
    "import matplotlib.pyplot as plt\n",
    "import pandas as pd\n",
    "import datetime, math\n",
    "import hvplot.pandas\n",
    "import holoviews as hv\n",
    "from statsmodels import robust\n",
    "hv.extension('bokeh')"
   ]
  },
  {
   "cell_type": "code",
   "execution_count": null,
   "metadata": {},
   "outputs": [],
   "source": [
    "df_results = pd.read_pickle('/home/jovyan/data/camhd_data/regions_results_for_dep_2.pickle')\n",
    "df_results.head()"
   ]
  },
  {
   "cell_type": "code",
   "execution_count": null,
   "metadata": {},
   "outputs": [],
   "source": [
    "# codemaderaw for use in emilio's enviorment\n",
    "df_results = pd.read_pickle('/home/jovyan/camhd_floc_model/data_camhd/results_for_dep_2.pickle')\n",
    "#total_floc = df_results['total_floc']\n",
    "df_results.head()"
   ]
  },
  {
   "cell_type": "code",
   "execution_count": null,
   "metadata": {},
   "outputs": [],
   "source": [
    "df_results = df_results.loc[df_results['nflocs']<2000]\n",
    "plot1= df_results.hvplot.scatter('datetime', 'total_floc',dynspread=True, datashade=True)\n",
    "plot1"
   ]
  },
  {
   "cell_type": "code",
   "execution_count": null,
   "metadata": {},
   "outputs": [],
   "source": [
    "time = df_results['timestamp'].values\n",
    "nfloc = df_results['nflocs'].values\n",
    "datedate = df_results['datetime']"
   ]
  },
  {
   "cell_type": "code",
   "execution_count": null,
   "metadata": {},
   "outputs": [],
   "source": [
    "def func (time, a1, a2):\n",
    "    return a1 + a2 * np.log10(time)"
   ]
  },
  {
   "cell_type": "code",
   "execution_count": null,
   "metadata": {},
   "outputs": [],
   "source": [
    "popt, pcov = curve_fit(func, df_results['timestamp'], df_results['nflocs'])\n",
    "y2 = func(time, popt[0], popt[1])"
   ]
  },
  {
   "cell_type": "code",
   "execution_count": null,
   "metadata": {},
   "outputs": [],
   "source": [
    "df_results['y2'] = y2\n",
    "plot1 = df_results.hvplot.scatter('datetime','nflocs',dynspread=True, datashade=True)\n",
    "plot2 = df_results.hvplot.line('datetime', 'y2',color='orange')\n",
    "plot1*plot2"
   ]
  },
  {
   "cell_type": "markdown",
   "metadata": {},
   "source": [
    "# Use Median Bins"
   ]
  },
  {
   "cell_type": "code",
   "execution_count": null,
   "metadata": {},
   "outputs": [],
   "source": [
    "# Get weekly median # flocs\n",
    "nflocs_med = df_results.set_index('datetime').resample('W')[\"nflocs\"].median()\n",
    "# create a dataframe with median nflocs (with weekly datetime value as index)\n",
    "df = nflocs_med.to_frame('nf_med')\n",
    "# Plot\n",
    "plot1 = df_results.hvplot.scatter('datetime','nflocs',dynspread=True, datashade=True)\n",
    "plot2 = df.hvplot.scatter('datetime','nf_med', color = 'red')\n",
    "plot1*plot2"
   ]
  },
  {
   "cell_type": "code",
   "execution_count": null,
   "metadata": {},
   "outputs": [],
   "source": [
    "xx = np.arange(1,len(df)+1)\n",
    "df['xx'] = xx\n",
    "df = df.dropna()\n",
    "\n",
    "popt, pcov = curve_fit(func, df['xx'], df['nf_med'])\n",
    "y2 = func(df['xx'], popt[0], popt[1])\n",
    "y2 = y2.copy() # doing this to avoid warning about copying a df slice\n",
    "df['y2'] = y2\n",
    "\n",
    "# Plot\n",
    "plot1 = df_results.hvplot.scatter('datetime','nflocs',dynspread=True, datashade=True,color='lightblue')\n",
    "plot2 = df.hvplot.scatter('datetime','nf_med', color = 'red')\n",
    "plot3 = df.hvplot.line('datetime','y2',color = 'gray')\n",
    "plot1*plot3*plot2"
   ]
  },
  {
   "cell_type": "code",
   "execution_count": null,
   "metadata": {},
   "outputs": [],
   "source": []
  },
  {
   "cell_type": "code",
   "execution_count": null,
   "metadata": {},
   "outputs": [],
   "source": []
  }
 ],
 "metadata": {
  "kernelspec": {
   "display_name": "Python 3",
   "language": "python",
   "name": "python3"
  },
  "language_info": {
   "codemirror_mode": {
    "name": "ipython",
    "version": 3
   },
   "file_extension": ".py",
   "mimetype": "text/x-python",
   "name": "python",
   "nbconvert_exporter": "python",
   "pygments_lexer": "ipython3",
   "version": "3.6.6"
  }
 },
 "nbformat": 4,
 "nbformat_minor": 2
}
