{
 "cells": [
  {
   "cell_type": "code",
   "execution_count": null,
   "metadata": {},
   "outputs": [],
   "source": []
  },
  {
   "cell_type": "code",
   "execution_count": null,
   "metadata": {},
   "outputs": [],
   "source": []
  },
  {
   "cell_type": "code",
   "execution_count": null,
   "metadata": {},
   "outputs": [],
   "source": [
    "import numpy as np\n",
    "import scipy as sp\n",
    "from scipy import stats\n",
    "from scipy.optimize import curve_fit\n",
    "from scipy.optimize import minimize\n",
    "from scipy.interpolate import *\n",
    "import matplotlib.pyplot as plt\n",
    "import pandas as pd\n",
    "import datetime, math\n",
    "import matplotlib.dates as dates"
   ]
  },
  {
   "cell_type": "code",
   "execution_count": null,
   "metadata": {},
   "outputs": [],
   "source": [
    "results = pd.read_pickle('/home/jovyan/floc_gsa_2019/regions_results_for_dep_5.pickle')\n"
   ]
  },
  {
   "cell_type": "code",
   "execution_count": null,
   "metadata": {},
   "outputs": [],
   "source": [
    "total_floc = [sum(i) for i in results['label_stats']]"
   ]
  },
  {
   "cell_type": "code",
   "execution_count": null,
   "metadata": {},
   "outputs": [],
   "source": [
    "results['total_floc'] = total_floc"
   ]
  },
  {
   "cell_type": "code",
   "execution_count": null,
   "metadata": {},
   "outputs": [],
   "source": [
    "x = results['timestamp'].values\n",
    "y = results['total_floc'].values"
   ]
  },
  {
   "cell_type": "code",
   "execution_count": null,
   "metadata": {},
   "outputs": [],
   "source": [
    "data = pd.DataFrame({'x': x, 'y': y})\n",
    "data.head()"
   ]
  },
  {
   "cell_type": "code",
   "execution_count": null,
   "metadata": {},
   "outputs": [],
   "source": [
    "import hvplot.pandas\n",
    "data.hvplot.scatter('x', 'y', datashade = True)"
   ]
  },
  {
   "cell_type": "code",
   "execution_count": null,
   "metadata": {},
   "outputs": [],
   "source": [
    "# s= data['y'].diff()\n",
    "# ss = s.quantile(.99)\n",
    "ss = data.loc[data['y']<7000]\n",
    "#ss = pd.concat([pd.Series([False]), ss])\n",
    "# df = data.where(ss)\n",
    "ss.describe()"
   ]
  },
  {
   "cell_type": "markdown",
   "metadata": {},
   "source": [
    "A(model) * B(dependent variable) = C(data)"
   ]
  },
  {
   "cell_type": "markdown",
   "metadata": {},
   "source": [
    "y = a1 + a2 * log10(x)\n",
    "\n",
    "x = [0.53, 0.75, 1.22, 2.11, 3.25]';\n",
    "y = [0.78, 0.81, 0.97, 1.28, 1.82]';\n",
    "V = [x, ones(size(x))];\n",
    "c = V \\ log(y);"
   ]
  },
  {
   "cell_type": "code",
   "execution_count": null,
   "metadata": {},
   "outputs": [],
   "source": [
    "# fake = np.array([\n",
    "# \t[0.05, 0.12],\n",
    "# \t[0.18, 0.22],\n",
    "# \t[0.31, 0.35],\n",
    "# \t[0.42, 0.38],\n",
    "# \t[0.5, 0.49],\n",
    "# \t])"
   ]
  },
  {
   "cell_type": "code",
   "execution_count": null,
   "metadata": {},
   "outputs": [],
   "source": [
    "A = np.vstack([ss.x, ss.y]).T\n",
    "A"
   ]
  },
  {
   "cell_type": "code",
   "execution_count": null,
   "metadata": {},
   "outputs": [],
   "source": [
    "XX, yy = A[:,0], A[:,1]\n",
    "XX = XX.reshape((len(XX), 1))\n",
    "# plot dataset\n",
    "plt.scatter(XX, yy)\n",
    "plt.show()"
   ]
  },
  {
   "cell_type": "markdown",
   "metadata": {},
   "source": [
    "By examining the coefficients, we see that the line should have a gradient of roughly 1 and cut the y-axis at, more or less, -1.\n",
    "\n",
    "We can rewrite the line equation as y = Ap, where A = [[x 1]] and p = [[m], [c]]. Now use lstsq to solve for p:"
   ]
  },
  {
   "cell_type": "code",
   "execution_count": null,
   "metadata": {},
   "outputs": [],
   "source": []
  },
  {
   "cell_type": "code",
   "execution_count": null,
   "metadata": {},
   "outputs": [],
   "source": [
    "from numpy.linalg import inv\n",
    "# linear least squares\n",
    "b = inv(XX.T.dot(XX)).dot(XX.T).dot(yy)\n",
    "print(b)\n",
    "# predict using coefficients\n",
    "yhat = XX.dot(b)\n",
    "# plot data and predictions\n",
    "plt.scatter(XX, ss.y)\n",
    "plt.ylim((-400, 20000))  \n",
    "plt.plot(XX, yhat, color='red')\n",
    "plt.show()"
   ]
  },
  {
   "cell_type": "code",
   "execution_count": null,
   "metadata": {},
   "outputs": [],
   "source": [
    "from numpy.linalg import pinv\n",
    "# calculate coefficients\n",
    "b = pinv(XX).dot(yy)\n",
    "print(b)\n",
    "# predict using coefficients\n",
    "yhat = XX.dot(b)\n",
    "# plot data and predictions\n",
    "plt.scatter(XX, yy)\n",
    "plt.ylim((-400, 20000))  \n",
    "plt.plot(XX, yhat, color='red')\n",
    "plt.show()"
   ]
  },
  {
   "cell_type": "markdown",
   "metadata": {},
   "source": [
    "Plot the data along with the fitted line:"
   ]
  },
  {
   "cell_type": "code",
   "execution_count": null,
   "metadata": {},
   "outputs": [],
   "source": [
    "import matplotlib.pyplot as plt\n",
    "plt.plot(ss.x, ss.y, 'o', label='Original data', markersize=10)\n",
    "plt.plot(ss.x, m*ss.x + c, 'r', label='Fitted line')\n",
    "plt.legend()\n",
    "plt.show()"
   ]
  },
  {
   "cell_type": "code",
   "execution_count": null,
   "metadata": {},
   "outputs": [],
   "source": []
  }
 ],
 "metadata": {
  "kernelspec": {
   "display_name": "Python 3",
   "language": "python",
   "name": "python3"
  },
  "language_info": {
   "codemirror_mode": {
    "name": "ipython",
    "version": 3
   },
   "file_extension": ".py",
   "mimetype": "text/x-python",
   "name": "python",
   "nbconvert_exporter": "python",
   "pygments_lexer": "ipython3",
   "version": "3.6.7"
  }
 },
 "nbformat": 4,
 "nbformat_minor": 2
}
