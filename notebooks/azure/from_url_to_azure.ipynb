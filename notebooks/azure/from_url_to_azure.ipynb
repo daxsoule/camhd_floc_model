{
 "cells": [
  {
   "cell_type": "markdown",
   "metadata": {},
   "source": [
    "# CamHD Video File to Azure Blob with Dask"
   ]
  },
  {
   "cell_type": "markdown",
   "metadata": {},
   "source": [
    "## Upload file from URL to Microsoft Azure Blob Storage"
   ]
  },
  {
   "cell_type": "code",
   "execution_count": null,
   "metadata": {},
   "outputs": [],
   "source": [
    "# # import modules\n",
    "import azure.storage.blob as ASB\n",
    "import azure.storage.common\n",
    "import yaml"
   ]
  },
  {
   "cell_type": "code",
   "execution_count": null,
   "metadata": {},
   "outputs": [],
   "source": [
    "# load Azure storage account credentials\n",
    "with open('/home/jovyan/.azure_credentials_ooitest.yaml', 'r') as f:\n",
    "    credentials = yaml.load(f)\n",
    "azure_storage_account_name = credentials['azure_storage_account_name']\n",
    "azure_storage_account_key = credentials['azure_storage_account_key']"
   ]
  },
  {
   "cell_type": "code",
   "execution_count": null,
   "metadata": {},
   "outputs": [],
   "source": [
    "block_blob_service = ASB.BlockBlobService(azure_storage_account_name, azure_storage_account_key)\n",
    "# container_name ='camhdtester'"
   ]
  },
  {
   "cell_type": "code",
   "execution_count": null,
   "metadata": {},
   "outputs": [],
   "source": [
    "block_blob_service.create_container(container_name)"
   ]
  },
  {
   "cell_type": "code",
   "execution_count": null,
   "metadata": {},
   "outputs": [],
   "source": [
    "# define function to copy from remote url to blob storage\n",
    "def run_sample():\n",
    "       block_blob_service.copy_blob(container_name,'rawdata','https://rawdata.oceanobservatories.org/files/RS03ASHS/PN03B/06-CAMHDA301/2019/07/06/CAMHDA301-20190706T060000Z.log')\n",
    "\n"
   ]
  },
  {
   "cell_type": "code",
   "execution_count": null,
   "metadata": {},
   "outputs": [],
   "source": [
    " # run function\n",
    "if __name__ == '__main__':\n",
    "     run_sample()"
   ]
  },
  {
   "cell_type": "code",
   "execution_count": null,
   "metadata": {},
   "outputs": [],
   "source": []
  },
  {
   "cell_type": "markdown",
   "metadata": {},
   "source": [
    "## Check size of containters & blobs to see if it worked"
   ]
  },
  {
   "cell_type": "code",
   "execution_count": null,
   "metadata": {},
   "outputs": [],
   "source": [
    "containers = block_blob_service.list_containers()\n",
    "for c in containers:\n",
    "        contName = c.name\n",
    "        generator = block_blob_service.list_blobs(contName)\n",
    "        contSize = 0\n",
    "        contNum = 0\n",
    "        for blob in generator: \n",
    "            contSize += blob.properties.content_length\n",
    "            contNum += 1\n",
    "        print(contName + \" : \" + str(contSize/1000000) + \" MB\" + \" in \" + str(contNum) + \" blobs\")"
   ]
  },
  {
   "cell_type": "markdown",
   "metadata": {},
   "source": [
    "## Clean up your space before you go home"
   ]
  },
  {
   "cell_type": "markdown",
   "metadata": {},
   "source": [
    "### clean up blobs"
   ]
  },
  {
   "cell_type": "code",
   "execution_count": null,
   "metadata": {},
   "outputs": [],
   "source": [
    "# blob_list = block_blob_service.list_blobs(container_name)\n",
    "# for blob in blob_list: \n",
    "#     blob_name = blob.name\n",
    "#     print(blob_name)"
   ]
  },
  {
   "cell_type": "code",
   "execution_count": null,
   "metadata": {},
   "outputs": [],
   "source": [
    "# # delete all blobs in container\n",
    "# blob = block_blob_service.list_blobs(container_name)\n",
    "# #for a in blob:\n",
    "#        #blob_service.delete_blob(container_name = container_name, blob_name = a.name)"
   ]
  },
  {
   "cell_type": "markdown",
   "metadata": {},
   "source": [
    "### clean up containers"
   ]
  },
  {
   "cell_type": "code",
   "execution_count": null,
   "metadata": {},
   "outputs": [],
   "source": [
    "# #set container to delete\n",
    "# container_name = 'test1'"
   ]
  },
  {
   "cell_type": "code",
   "execution_count": null,
   "metadata": {},
   "outputs": [],
   "source": [
    "# # Clean up resources. This includes the container and the temp files.\n",
    "# block_blob_service.delete_container(container_name)\n",
    "# # os.remove(full_path_to_file)\n",
    "# # os.remove(full_path_to_file2)"
   ]
  },
  {
   "cell_type": "code",
   "execution_count": null,
   "metadata": {},
   "outputs": [],
   "source": []
  }
 ],
 "metadata": {
  "kernelspec": {
   "display_name": "Python 3",
   "language": "python",
   "name": "python3"
  },
  "language_info": {
   "codemirror_mode": {
    "name": "ipython",
    "version": 3
   },
   "file_extension": ".py",
   "mimetype": "text/x-python",
   "name": "python",
   "nbconvert_exporter": "python",
   "pygments_lexer": "ipython3",
   "version": "3.6.6"
  }
 },
 "nbformat": 4,
 "nbformat_minor": 2
}
