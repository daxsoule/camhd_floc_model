{
 "cells": [
  {
   "cell_type": "markdown",
   "metadata": {},
   "source": [
    "### This is a Notebook to Open Floc Results Pickle from the Neanderthal Lab CAMHD Shared Drive and Save the Data in a Directory that we Define Below"
   ]
  },
  {
   "cell_type": "markdown",
   "metadata": {},
   "source": [
    "#### This is the id link copied from the drive shared link:\n",
    "#### blob_id = ['1OozBscUJSelTn7cl5EAT9eADC2mF43Mh']\n",
    "##### The shared setting is visible to anyone with the link and can comment"
   ]
  },
  {
   "cell_type": "markdown",
   "metadata": {},
   "source": [
    "#### This is the filename:\n",
    "#### file_list = ['results_for_dep_5.pickle']"
   ]
  },
  {
   "cell_type": "code",
   "execution_count": null,
   "metadata": {},
   "outputs": [],
   "source": [
    "import driveanon as da\n",
    "import pandas as pd"
   ]
  },
  {
   "cell_type": "code",
   "execution_count": null,
   "metadata": {},
   "outputs": [],
   "source": [
    "import os\n",
    "import sys\n",
    "import pickle"
   ]
  },
  {
   "cell_type": "code",
   "execution_count": null,
   "metadata": {},
   "outputs": [],
   "source": [
    "# Here we create our directory for floc data\n",
    "dir_name = '/home/jovyan/floc_data/'\n",
    "if not os.path.exists(dir_name):\n",
    "    os.mkdir(dir_name)\n",
    "    print(\"Path\", dir_name, \"now paved\")\n",
    "else:    \n",
    "    print(\"Directory\" , dir_name , \"already exists\")"
   ]
  },
  {
   "cell_type": "code",
   "execution_count": null,
   "metadata": {},
   "outputs": [],
   "source": [
    "# Here we specify the blob id linked to our desired file shared on google drive\n",
    "# Further we define the filename we are downloading into our enviornment\n",
    "blob_id = '1OozBscUJSelTn7cl5EAT9eADC2mF43Mh'\n",
    "filename = 'results_for_dep_5.pickle'   "
   ]
  },
  {
   "cell_type": "code",
   "execution_count": null,
   "metadata": {},
   "outputs": [],
   "source": [
    "# This cell defines the function that will save our drive anon file in our data directory\n",
    "def run(): \n",
    "    owd = os.getcwd()\n",
    "    #first change dir to path\n",
    "    os.chdir(dir_name)\n",
    "    print(\"Now working in\", os.getcwd(),)\n",
    "    #run driveanon function to save data to data directory\n",
    "    da.save(blob_id)\n",
    "    print(\"File\" , filename , \"created in\", dir_name)\n",
    "    #change dir back to original working directory (owd)\n",
    "    os.chdir(owd)\n",
    "    print(\"Now working back in\", os.getcwd(),)"
   ]
  },
  {
   "cell_type": "code",
   "execution_count": null,
   "metadata": {},
   "outputs": [],
   "source": [
    "# Run this to run the run function outlined above\n",
    "run()"
   ]
  },
  {
   "cell_type": "code",
   "execution_count": null,
   "metadata": {},
   "outputs": [],
   "source": []
  }
 ],
 "metadata": {
  "kernelspec": {
   "display_name": "Python 3",
   "language": "python",
   "name": "python3"
  },
  "language_info": {
   "codemirror_mode": {
    "name": "ipython",
    "version": 3
   },
   "file_extension": ".py",
   "mimetype": "text/x-python",
   "name": "python",
   "nbconvert_exporter": "python",
   "pygments_lexer": "ipython3",
   "version": "3.6.6"
  }
 },
 "nbformat": 4,
 "nbformat_minor": 2
}
