{
 "cells": [
  {
   "cell_type": "markdown",
   "metadata": {},
   "source": [
    "## This is a Notebook to Open the Floc Results Pickle from the Neanderthal Lab CAMHD Shared Drive"
   ]
  },
  {
   "cell_type": "markdown",
   "metadata": {},
   "source": [
    "#### This is the id link copied from the drive shared link:\n",
    "#### blob_id = ['1OozBscUJSelTn7cl5EAT9eADC2mF43Mh']\n",
    "##### The shared setting is visible to anyone with the link and can comment"
   ]
  },
  {
   "cell_type": "markdown",
   "metadata": {},
   "source": [
    "#### This is the filename:\n",
    "#### file_list = ['results_for_dep_5.pickle']"
   ]
  },
  {
   "cell_type": "code",
   "execution_count": null,
   "metadata": {},
   "outputs": [],
   "source": [
    "import driveanon as da\n",
    "import pandas as pd"
   ]
  },
  {
   "cell_type": "code",
   "execution_count": null,
   "metadata": {},
   "outputs": [],
   "source": [
    "# This cell pulls in the file locally from the shared drive\n",
    "blob_id = '1OozBscUJSelTn7cl5EAT9eADC2mF43Mh'\n",
    "da.save(blob_id)"
   ]
  },
  {
   "cell_type": "code",
   "execution_count": null,
   "metadata": {},
   "outputs": [],
   "source": [
    "import os\n",
    "import sys\n",
    "import pickle"
   ]
  },
  {
   "cell_type": "code",
   "execution_count": null,
   "metadata": {},
   "outputs": [],
   "source": [
    "#testing\n",
    "os.path.isdir('/home/jovyan/floc_data/')"
   ]
  },
  {
   "cell_type": "code",
   "execution_count": null,
   "metadata": {},
   "outputs": [],
   "source": [
    "dirName = '/home/jovyan/floc_datad/'\n",
    "fn = pd.read_pickle('results_for_dep_5.pickle')\n",
    "if not os.path.exists(dirName):\n",
    "    os.mkdir(dirName)\n",
    "    print(\"Path\" , dirName ,  \"now paved\")\n",
    "    with open(dirName + fn, 'wb') as f:\n",
    "        pickle.dump(results, f)\n",
    "        print(\"File\" , fn ,  \"created\")\n",
    "else:    \n",
    "    print(\"Directory\" , dirName , \"already exists\")"
   ]
  },
  {
   "cell_type": "code",
   "execution_count": null,
   "metadata": {},
   "outputs": [],
   "source": []
  }
 ],
 "metadata": {
  "kernelspec": {
   "display_name": "Python 3",
   "language": "python",
   "name": "python3"
  },
  "language_info": {
   "codemirror_mode": {
    "name": "ipython",
    "version": 3
   },
   "file_extension": ".py",
   "mimetype": "text/x-python",
   "name": "python",
   "nbconvert_exporter": "python",
   "pygments_lexer": "ipython3",
   "version": "3.6.6"
  }
 },
 "nbformat": 4,
 "nbformat_minor": 2
}
