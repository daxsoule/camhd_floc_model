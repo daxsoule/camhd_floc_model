{
 "cells": [
  {
   "cell_type": "markdown",
   "metadata": {},
   "source": [
    "# Title: Using video image analysis and a cabled seafloor camera system to measure bacterial “floc” concentrations at Axial Seamount.\n",
    "### Crone, T. J., A. Marburg, F. Knuth, D. C. Soule, E. Tesin and D. S. Kelley"
   ]
  },
  {
   "cell_type": "markdown",
   "metadata": {},
   "source": [
    "# Abstract from GSA:\n",
    "The Ocean Observatory Initiative’s (OOI) Cabled Array is a deep-sea cabled observatory that\n",
    "connects over one hundred instruments measuring a range of oceanographic, chemical, and\n",
    "geophysical parameters in the northeast Pacific Ocean to the Internet over a ~800 km fiber optic\n",
    "cable. Since August 2015, a high-definition video camera (CamHD) on the Cabled Array has\n",
    "collected over 100 terabytes of video data showing a hydrothermal vent structure and the\n",
    "surrounding water column above the ASHES hydrothermal vent field, located within the\n",
    "submarine caldera of Axial Volcano nearly 500 km off of the coast of Oregon. This time period\n",
    "has been marked by an inflation of the magma lens below Axial, which drives hydrothermal\n",
    "activity at this vent field and at others within the caldera. Previous episodes of magmatic and\n",
    "tectonic activity have been associated with ejections of microbial material from vents on Axial,\n",
    "called “floc events”, and through the study of this process we may be able to gain insights into\n",
    "the relationship between hydrothermal processes, biological activity, and tectonic and magmatic\n",
    "activity in mid-ocean ridge settings. Here, we investigate video data from the fifth deployment of\n",
    "CamHD that began in July of 2018, and using image analysis methods from Crone et al. (2016),\n",
    "we explore changes in the apparent bacterial floc concentration in the water column. We also\n",
    "develop a refined image analysis method allowing us to quantify changes in the number of\n",
    "visible floc particles within the imagery, and their size distribution over time. We find that during\n",
    "the period of our study, visible flocs steadily decreased in number from a relatively high value in\n",
    "mid-summer to lower values today, potentially in response to a floc event. Using bottom\n",
    "pressure data from other sensors at Axial, we show evidence of a volcanic deflation event that\n",
    "occurred just prior to our study, suggesting that a floc event may have been triggered by an\n",
    "episode of volcanic deflation prior to the study period."
   ]
  },
  {
   "cell_type": "markdown",
   "metadata": {},
   "source": [
    "# Introduction "
   ]
  },
  {
   "cell_type": "markdown",
   "metadata": {},
   "source": [
    "# Methods"
   ]
  },
  {
   "cell_type": "markdown",
   "metadata": {},
   "source": [
    "# Results "
   ]
  },
  {
   "cell_type": "markdown",
   "metadata": {},
   "source": [
    "# Discussion "
   ]
  },
  {
   "cell_type": "markdown",
   "metadata": {},
   "source": [
    "# Conclusions "
   ]
  },
  {
   "cell_type": "markdown",
   "metadata": {},
   "source": [
    "# Figures "
   ]
  },
  {
   "cell_type": "markdown",
   "metadata": {},
   "source": [
    "# Citations \n",
    "1. Crone et al something... "
   ]
  },
  {
   "cell_type": "code",
   "execution_count": null,
   "metadata": {},
   "outputs": [],
   "source": []
  }
 ],
 "metadata": {
  "kernelspec": {
   "display_name": "Python 3",
   "language": "python",
   "name": "python3"
  },
  "language_info": {
   "codemirror_mode": {
    "name": "ipython",
    "version": 3
   },
   "file_extension": ".py",
   "mimetype": "text/x-python",
   "name": "python",
   "nbconvert_exporter": "python",
   "pygments_lexer": "ipython3",
   "version": "3.6.7"
  }
 },
 "nbformat": 4,
 "nbformat_minor": 2
}
